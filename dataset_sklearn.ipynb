{
 "cells": [
  {
   "cell_type": "markdown",
   "metadata": {},
   "source": [
    "datasets 网址: http://scikit-learn.org/stable/modules/classes.html#module-sklearn.datasets"
   ]
  },
  {
   "cell_type": "code",
   "execution_count": 2,
   "metadata": {
    "collapsed": false
   },
   "outputs": [],
   "source": [
    "import numpy as np\n",
    "from sklearn import datasets\n",
    "from sklearn.cross_validation import train_test_split\n",
    "from sklearn.linear_model import LinearRegression"
   ]
  },
  {
   "cell_type": "code",
   "execution_count": 4,
   "metadata": {
    "collapsed": false
   },
   "outputs": [],
   "source": [
    "data = datasets.load_boston()\n",
    "data_X = data.data\n",
    "data_y = data.target"
   ]
  },
  {
   "cell_type": "code",
   "execution_count": 10,
   "metadata": {
    "collapsed": false
   },
   "outputs": [],
   "source": [
    "# print(data_X[:2,:])"
   ]
  },
  {
   "cell_type": "code",
   "execution_count": 9,
   "metadata": {
    "collapsed": false
   },
   "outputs": [],
   "source": [
    "# print(data_y)"
   ]
  },
  {
   "cell_type": "code",
   "execution_count": 11,
   "metadata": {
    "collapsed": true
   },
   "outputs": [],
   "source": [
    "X_train, X_test, y_train, y_test = train_test_split(data_X, data_y, test_size=0.3)"
   ]
  },
  {
   "cell_type": "code",
   "execution_count": 12,
   "metadata": {
    "collapsed": false
   },
   "outputs": [
    {
     "name": "stdout",
     "output_type": "stream",
     "text": [
      "[ 33.4  23.3  29.6  14.5  23.2  20.8  50.   34.6  36.1  29.   19.4  27.5\n",
      "  30.1  10.5  16.2  25.1  31.5  16.7  15.3  16.1  15.6  30.7  14.3  44.8\n",
      "  36.4  17.7  50.   41.7  20.4  19.6  22.5  17.8  14.4  33.4  13.3  22.\n",
      "  20.9  19.5  17.6  21.2  19.9  15.2  30.1  22.3  24.7  29.1  50.   22.6\n",
      "  19.6  32.5   8.1  22.8  15.6  22.3  16.3  20.1  24.1  13.1  22.9  14.4\n",
      "  20.1  22.   32.2  19.9  16.8   8.5  50.   19.2  19.7  18.2  20.9  12.\n",
      "  27.   18.1  50.   32.4  23.1  48.5  21.9  22.6  22.4  26.4  22.6  23.4\n",
      "  22.9  24.5  37.6  15.   22.2  24.8  13.5  28.2  23.5  13.9  24.4  15.7\n",
      "  12.3  30.3  21.7   5.   17.4  20.1  20.5  23.7  25.   21.4  22.5  50.\n",
      "  34.9  21.   16.5  14.6  19.1  20.    6.3  18.9  11.8  48.3  27.1   5.\n",
      "  17.4  13.5  33.1   9.7  20.8  18.5  12.8  18.7  18.4  38.7  23.7  22.4\n",
      "  43.1  16.   19.9  22.   44.   24.   18.7  15.6  17.8  22.2  23.9  24.4\n",
      "  11.3  13.4  17.2  36.2  22.9  11.9  22.7  18.9  13.3  20.4  13.8  13.\n",
      "  29.8  28.1  21.5  43.5  22.   23.1  18.3  24.3  21.4  10.5  20.   14.9\n",
      "  18.9  24.8  31.2  25.2  13.1  18.3  20.   27.9  21.7  17.8  25.   14.6\n",
      "  14.1  31.6  20.6   7.2  15.2  20.8  18.4  24.4   8.4  14.5  10.9  26.6\n",
      "  21.7  24.4  23.   21.    8.5  20.6  28.7  25.   19.4  29.4  19.1  23.1\n",
      "   8.8  17.   16.7  17.8  11.8  13.6  23.3  23.1  17.2  34.7   7.    8.7\n",
      "  17.3  22.2  20.5  15.1  18.2  20.2  24.7  23.3  17.8  23.8  22.6  31.\n",
      "  20.4  12.1  50.   19.8  26.7  22.   23.8  19.6  10.4  20.3  17.4  16.2\n",
      "  21.2  23.9  37.9  17.5  19.3  28.6  31.5  19.3  12.5  26.6  17.9  20.6\n",
      "  18.8  21.1  24.8   8.3  29.1  33.2  19.5  24.6  32.7  21.9  22.2  28.4\n",
      "  21.2  16.4  18.8  29.8  10.9  18.9  14.8  21.2  17.5  18.6  19.6  13.1\n",
      "  37.   15.4  12.7  19.8  24.3  13.3  24.   10.8  16.6  14.5  46.7  31.1\n",
      "  23.2  16.1  22.5  23.1  19.4  28.   11.7  22.8  11.   13.4  35.1  15.\n",
      "  26.4  15.4  17.1  16.8  19.1  21.7  12.7  15.6  29.6  14.1  50.   33.\n",
      "  10.2  18.5   5.6  20.   46.   18.5  23.2  21.4  21.7  33.1  23.   14.\n",
      "  19.6  16.5  24.5  26.6  21.7  21.5  11.7  10.2  19.5  21.6  15.   20.6\n",
      "   7.2  16.1  23.6  24.7  36.   33.2  24.2  33.8  21.4  19.3  19.3  43.8\n",
      "  19.8  23.9  25.    9.5  23.1  18.2]\n"
     ]
    }
   ],
   "source": [
    "print(y_train)"
   ]
  },
  {
   "cell_type": "code",
   "execution_count": 15,
   "metadata": {
    "collapsed": false
   },
   "outputs": [
    {
     "data": {
      "text/plain": [
       "LinearRegression(copy_X=True, fit_intercept=True, n_jobs=1, normalize=False)"
      ]
     },
     "execution_count": 15,
     "metadata": {},
     "output_type": "execute_result"
    }
   ],
   "source": [
    "model = LinearRegression()\n",
    "model.fit(X_train, y_train)"
   ]
  },
  {
   "cell_type": "code",
   "execution_count": 16,
   "metadata": {
    "collapsed": true
   },
   "outputs": [],
   "source": [
    "# computer accuracy\n",
    "accuracy = sum(model.predict(X_test) == y_test) / len(y_test)"
   ]
  },
  {
   "cell_type": "code",
   "execution_count": 21,
   "metadata": {
    "collapsed": false
   },
   "outputs": [
    {
     "name": "stdout",
     "output_type": "stream",
     "text": [
      "0.0\n",
      "[ 21.59173557   5.62697372  35.70490292  24.21439581]\n",
      "[ 19.   10.2  33.3  27.5]\n"
     ]
    }
   ],
   "source": [
    "print(accuracy)\n",
    "print(model.predict(X_test[:4]))\n",
    "print(y_test[:4])\n",
    "# you can see the result is awful, but for machine learning, this is coreect, because  normalization is not done"
   ]
  },
  {
   "cell_type": "markdown",
   "metadata": {},
   "source": [
    "### create data sample for train"
   ]
  },
  {
   "cell_type": "code",
   "execution_count": 22,
   "metadata": {
    "collapsed": true
   },
   "outputs": [],
   "source": [
    "import matplotlib.pyplot as plt\n",
    "%matplotlib inline"
   ]
  },
  {
   "cell_type": "code",
   "execution_count": 41,
   "metadata": {
    "collapsed": false
   },
   "outputs": [],
   "source": [
    "data_X, data_y = datasets.make_regression(n_samples=100,n_features=1,n_targets=1, noise =10)"
   ]
  },
  {
   "cell_type": "code",
   "execution_count": 42,
   "metadata": {
    "collapsed": false,
    "scrolled": true
   },
   "outputs": [
    {
     "data": {
      "image/png": "[encoded data removed]",
      "text/plain": [
       "<matplotlib.figure.Figure at 0x28ee0e329e8>"
      ]
     },
     "metadata": {},
     "output_type": "display_data"
    }
   ],
   "source": [
    "# plt.style\n",
    "plt.scatter(data_X, data_y)\n",
    "\n",
    "plt.show()"
   ]
  },
  {
   "cell_type": "code",
   "execution_count": null,
   "metadata": {
    "collapsed": true
   },
   "outputs": [],
   "source": []
  }
 ],
 "metadata": {
  "kernelspec": {
   "display_name": "Python 3",
   "language": "python",
   "name": "python3"
  },
  "language_info": {
   "codemirror_mode": {
    "name": "ipython",
    "version": 3
   },
   "file_extension": ".py",
   "mimetype": "text/x-python",
   "name": "python",
   "nbconvert_exporter": "python",
   "pygments_lexer": "ipython3",
   "version": "3.5.2"
  }
 },
 "nbformat": 4,
 "nbformat_minor": 2
}
